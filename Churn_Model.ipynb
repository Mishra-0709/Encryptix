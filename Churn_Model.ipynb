{
  "nbformat": 4,
  "nbformat_minor": 0,
  "metadata": {
    "colab": {
      "provenance": [],
      "authorship_tag": "ABX9TyM4vsFfJ8LjmwkZAs0Kl+uT",
      "include_colab_link": true
    },
    "kernelspec": {
      "name": "python3",
      "display_name": "Python 3"
    },
    "language_info": {
      "name": "python"
    }
  },
  "cells": [
    {
      "cell_type": "markdown",
      "metadata": {
        "id": "view-in-github",
        "colab_type": "text"
      },
      "source": [
        "<a href=\"https://colab.research.google.com/github/Mishra-0709/C-program/blob/cat/Churn_Model.ipynb\" target=\"_parent\"><img src=\"https://colab.research.google.com/assets/colab-badge.svg\" alt=\"Open In Colab\"/></a>"
      ]
    },
    {
      "cell_type": "markdown",
      "source": [
        "Import Necessary Libraries"
      ],
      "metadata": {
        "id": "APzYwm6xkBKa"
      }
    },
    {
      "cell_type": "code",
      "execution_count": null,
      "metadata": {
        "id": "ktRzVr53j_7c"
      },
      "outputs": [],
      "source": [
        "import pandas as pd\n",
        "import numpy as np\n",
        "from sklearn.model_selection import train_test_split\n",
        "from sklearn.preprocessing import StandardScaler, LabelEncoder\n",
        "from sklearn.linear_model import LogisticRegression\n",
        "from sklearn.ensemble import RandomForestClassifier, GradientBoostingClassifier\n",
        "from sklearn.metrics import accuracy_score, confusion_matrix, classification_report"
      ]
    },
    {
      "cell_type": "markdown",
      "source": [
        "Load and Explore the Data"
      ],
      "metadata": {
        "id": "kUTJ9RT7kVX5"
      }
    },
    {
      "cell_type": "code",
      "source": [
        "# Load the data\n",
        "data = pd.read_csv('Churn_Modelling.csv')\n",
        "\n",
        "# Display the first few rows\n",
        "print(data.head())"
      ],
      "metadata": {
        "colab": {
          "base_uri": "https://localhost:8080/"
        },
        "id": "S30EZRbnkV6i",
        "outputId": "61502138-b639-4a9e-d92d-d8a02eb907be"
      },
      "execution_count": null,
      "outputs": [
        {
          "output_type": "stream",
          "name": "stdout",
          "text": [
            "   RowNumber  CustomerId   Surname  CreditScore Geography  Gender  Age  \\\n",
            "0          1    15634602  Hargrave          619    France  Female   42   \n",
            "1          2    15647311      Hill          608     Spain  Female   41   \n",
            "2          3    15619304      Onio          502    France  Female   42   \n",
            "3          4    15701354      Boni          699    France  Female   39   \n",
            "4          5    15737888  Mitchell          850     Spain  Female   43   \n",
            "\n",
            "   Tenure    Balance  NumOfProducts  HasCrCard  IsActiveMember  \\\n",
            "0       2       0.00              1          1               1   \n",
            "1       1   83807.86              1          0               1   \n",
            "2       8  159660.80              3          1               0   \n",
            "3       1       0.00              2          0               0   \n",
            "4       2  125510.82              1          1               1   \n",
            "\n",
            "   EstimatedSalary  Exited  \n",
            "0        101348.88       1  \n",
            "1        112542.58       0  \n",
            "2        113931.57       1  \n",
            "3         93826.63       0  \n",
            "4         79084.10       0  \n"
          ]
        }
      ]
    },
    {
      "cell_type": "markdown",
      "source": [
        "Data Preprocessing"
      ],
      "metadata": {
        "id": "-1Fq5E68kYV4"
      }
    },
    {
      "cell_type": "code",
      "source": [
        "# Step 3: Data Preprocessing\n",
        "\n",
        "# Encode categorical variables 'Geography' and 'Gender'\n",
        "label_encoder_geography = LabelEncoder()\n",
        "label_encoder_gender = LabelEncoder()\n",
        "\n",
        "data['Geography'] = label_encoder_geography.fit_transform(data['Geography'])\n",
        "data['Gender'] = label_encoder_gender.fit_transform(data['Gender'])\n",
        "\n",
        "# Select features and target variable\n",
        "X = data.drop(columns=['RowNumber', 'CustomerId', 'Surname', 'Exited'])\n",
        "y = data['Exited']\n",
        "\n",
        "# Split the data into training and testing sets\n",
        "X_train, X_test, y_train, y_test = train_test_split(X, y, test_size=0.2, random_state=42)\n",
        "\n",
        "# Feature scaling\n",
        "scaler = StandardScaler()\n",
        "X_train = scaler.fit_transform(X_train)\n",
        "X_test = scaler.transform(X_test)\n",
        "\n",
        "# Show the processed data\n",
        "print(\"Training features shape:\", X_train.shape)\n",
        "print(\"Testing features shape:\", X_test.shape)\n",
        "print(\"Training labels shape:\", y_train.shape)\n",
        "print(\"Testing labels shape:\", y_test.shape)"
      ],
      "metadata": {
        "colab": {
          "base_uri": "https://localhost:8080/"
        },
        "id": "WF-tahK2myvR",
        "outputId": "742927c0-f4bf-4a9a-b08f-3a40b061ed13"
      },
      "execution_count": null,
      "outputs": [
        {
          "output_type": "stream",
          "name": "stdout",
          "text": [
            "Training features shape: (8000, 10)\n",
            "Testing features shape: (2000, 10)\n",
            "Training labels shape: (8000,)\n",
            "Testing labels shape: (2000,)\n"
          ]
        }
      ]
    },
    {
      "cell_type": "markdown",
      "source": [
        "Model Training and Evaluation"
      ],
      "metadata": {
        "id": "71of-CSKm7or"
      }
    },
    {
      "cell_type": "code",
      "source": [
        "# Logistic Regression\n",
        "log_reg = LogisticRegression(random_state=42)\n",
        "log_reg.fit(X_train, y_train)\n",
        "\n",
        "# Make predictions\n",
        "y_pred_log_reg = log_reg.predict(X_test)\n",
        "\n",
        "# Evaluate\n",
        "print(\"Logistic Regression Accuracy:\", accuracy_score(y_test, y_pred_log_reg))\n",
        "print(confusion_matrix(y_test, y_pred_log_reg))\n",
        "print(classification_report(y_test, y_pred_log_reg))"
      ],
      "metadata": {
        "colab": {
          "base_uri": "https://localhost:8080/"
        },
        "id": "CiWskBNVm-LD",
        "outputId": "c1b1a7ee-ff1c-41c0-d00f-f3b623687982"
      },
      "execution_count": null,
      "outputs": [
        {
          "output_type": "stream",
          "name": "stdout",
          "text": [
            "Logistic Regression Accuracy: 0.815\n",
            "[[1559   48]\n",
            " [ 322   71]]\n",
            "              precision    recall  f1-score   support\n",
            "\n",
            "           0       0.83      0.97      0.89      1607\n",
            "           1       0.60      0.18      0.28       393\n",
            "\n",
            "    accuracy                           0.81      2000\n",
            "   macro avg       0.71      0.58      0.59      2000\n",
            "weighted avg       0.78      0.81      0.77      2000\n",
            "\n"
          ]
        }
      ]
    },
    {
      "cell_type": "markdown",
      "source": [
        "Random Forest"
      ],
      "metadata": {
        "id": "ZJHfQwennBll"
      }
    },
    {
      "cell_type": "code",
      "source": [
        "# Random Forest\n",
        "random_forest = RandomForestClassifier(random_state=42)\n",
        "random_forest.fit(X_train, y_train)\n",
        "\n",
        "# Make predictions\n",
        "y_pred_rf = random_forest.predict(X_test)\n",
        "\n",
        "# Evaluate\n",
        "print(\"Random Forest Accuracy:\", accuracy_score(y_test, y_pred_rf))\n",
        "print(confusion_matrix(y_test, y_pred_rf))\n",
        "print(classification_report(y_test, y_pred_rf))"
      ],
      "metadata": {
        "colab": {
          "base_uri": "https://localhost:8080/"
        },
        "id": "23u5aNdjnEgu",
        "outputId": "3a27c656-117b-4a02-8407-e0adde5ebf4b"
      },
      "execution_count": null,
      "outputs": [
        {
          "output_type": "stream",
          "name": "stdout",
          "text": [
            "Random Forest Accuracy: 0.8645\n",
            "[[1545   62]\n",
            " [ 209  184]]\n",
            "              precision    recall  f1-score   support\n",
            "\n",
            "           0       0.88      0.96      0.92      1607\n",
            "           1       0.75      0.47      0.58       393\n",
            "\n",
            "    accuracy                           0.86      2000\n",
            "   macro avg       0.81      0.71      0.75      2000\n",
            "weighted avg       0.85      0.86      0.85      2000\n",
            "\n"
          ]
        }
      ]
    },
    {
      "cell_type": "markdown",
      "source": [
        "Gradient Boosting"
      ],
      "metadata": {
        "id": "NBOFTMfmnIOh"
      }
    },
    {
      "cell_type": "code",
      "source": [
        "# Gradient Boosting\n",
        "grad_boost = GradientBoostingClassifier(random_state=42)\n",
        "grad_boost.fit(X_train, y_train)\n",
        "\n",
        "# Make predictions\n",
        "y_pred_gb = grad_boost.predict(X_test)\n",
        "\n",
        "# Evaluate\n",
        "print(\"Gradient Boosting Accuracy:\", accuracy_score(y_test, y_pred_gb))\n",
        "print(confusion_matrix(y_test, y_pred_gb))\n",
        "print(classification_report(y_test, y_pred_gb))"
      ],
      "metadata": {
        "colab": {
          "base_uri": "https://localhost:8080/"
        },
        "id": "F3R5juwonKpW",
        "outputId": "b59683b8-99a9-4db0-f4a5-52b62e6a1dbb"
      },
      "execution_count": null,
      "outputs": [
        {
          "output_type": "stream",
          "name": "stdout",
          "text": [
            "Gradient Boosting Accuracy: 0.8655\n",
            "[[1547   60]\n",
            " [ 209  184]]\n",
            "              precision    recall  f1-score   support\n",
            "\n",
            "           0       0.88      0.96      0.92      1607\n",
            "           1       0.75      0.47      0.58       393\n",
            "\n",
            "    accuracy                           0.87      2000\n",
            "   macro avg       0.82      0.72      0.75      2000\n",
            "weighted avg       0.86      0.87      0.85      2000\n",
            "\n"
          ]
        }
      ]
    },
    {
      "cell_type": "markdown",
      "source": [
        "Compare Results"
      ],
      "metadata": {
        "id": "gA-cpNQ0nNnQ"
      }
    },
    {
      "cell_type": "code",
      "source": [
        "# Step 5: Compare Results\n",
        "\n",
        "from sklearn.metrics import accuracy_score, confusion_matrix, classification_report\n",
        "\n",
        "# Function to evaluate the model\n",
        "def evaluate_model(model, X_test, y_test):\n",
        "    y_pred = model.predict(X_test)\n",
        "    accuracy = accuracy_score(y_test, y_pred)\n",
        "    conf_matrix = confusion_matrix(y_test, y_pred)\n",
        "    class_report = classification_report(y_test, y_pred)\n",
        "    return accuracy, conf_matrix, class_report\n",
        "\n",
        "# Evaluate Logistic Regression\n",
        "log_reg_accuracy, log_reg_conf_matrix, log_reg_class_report = evaluate_model(log_reg, X_test, y_test)\n",
        "print(\"Logistic Regression Accuracy:\", log_reg_accuracy)\n",
        "print(\"Confusion Matrix:\\n\", log_reg_conf_matrix)\n",
        "print(\"Classification Report:\\n\", log_reg_class_report)\n",
        "\n",
        "# Evaluate Random Forest\n",
        "rf_accuracy, rf_conf_matrix, rf_class_report = evaluate_model(random_forest, X_test, y_test)\n",
        "print(\"Random Forest Accuracy:\", rf_accuracy)\n",
        "print(\"Confusion Matrix:\\n\", rf_conf_matrix)\n",
        "print(\"Classification Report:\\n\", rf_class_report)\n",
        "\n",
        "# Evaluate Gradient Boosting\n",
        "gb_accuracy, gb_conf_matrix, gb_class_report = evaluate_model(grad_boost, X_test, y_test)\n",
        "print(\"Gradient Boosting Accuracy:\", gb_accuracy)\n",
        "print(\"Confusion Matrix:\\n\", gb_conf_matrix)\n",
        "print(\"Classification Report:\\n\", gb_class_report)\n",
        "\n",
        "# Compare Results\n",
        "results = {\n",
        "    'Model': ['Logistic Regression', 'Random Forest', 'Gradient Boosting'],\n",
        "    'Accuracy': [log_reg_accuracy, rf_accuracy, gb_accuracy]\n",
        "}\n",
        "\n",
        "results_df = pd.DataFrame(results)\n",
        "print(results_df)"
      ],
      "metadata": {
        "colab": {
          "base_uri": "https://localhost:8080/"
        },
        "id": "rkulrN0FnXiU",
        "outputId": "b8e8e64d-29b7-4ea6-9ec3-ad8193b282a3"
      },
      "execution_count": null,
      "outputs": [
        {
          "output_type": "stream",
          "name": "stdout",
          "text": [
            "Logistic Regression Accuracy: 0.815\n",
            "Confusion Matrix:\n",
            " [[1559   48]\n",
            " [ 322   71]]\n",
            "Classification Report:\n",
            "               precision    recall  f1-score   support\n",
            "\n",
            "           0       0.83      0.97      0.89      1607\n",
            "           1       0.60      0.18      0.28       393\n",
            "\n",
            "    accuracy                           0.81      2000\n",
            "   macro avg       0.71      0.58      0.59      2000\n",
            "weighted avg       0.78      0.81      0.77      2000\n",
            "\n",
            "Random Forest Accuracy: 0.8645\n",
            "Confusion Matrix:\n",
            " [[1545   62]\n",
            " [ 209  184]]\n",
            "Classification Report:\n",
            "               precision    recall  f1-score   support\n",
            "\n",
            "           0       0.88      0.96      0.92      1607\n",
            "           1       0.75      0.47      0.58       393\n",
            "\n",
            "    accuracy                           0.86      2000\n",
            "   macro avg       0.81      0.71      0.75      2000\n",
            "weighted avg       0.85      0.86      0.85      2000\n",
            "\n",
            "Gradient Boosting Accuracy: 0.8655\n",
            "Confusion Matrix:\n",
            " [[1547   60]\n",
            " [ 209  184]]\n",
            "Classification Report:\n",
            "               precision    recall  f1-score   support\n",
            "\n",
            "           0       0.88      0.96      0.92      1607\n",
            "           1       0.75      0.47      0.58       393\n",
            "\n",
            "    accuracy                           0.87      2000\n",
            "   macro avg       0.82      0.72      0.75      2000\n",
            "weighted avg       0.86      0.87      0.85      2000\n",
            "\n",
            "                 Model  Accuracy\n",
            "0  Logistic Regression    0.8150\n",
            "1        Random Forest    0.8645\n",
            "2    Gradient Boosting    0.8655\n"
          ]
        }
      ]
    }
  ]
}